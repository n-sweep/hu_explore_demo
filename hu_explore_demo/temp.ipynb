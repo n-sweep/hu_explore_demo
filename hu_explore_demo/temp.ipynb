{
 "cells": [
  {
   "cell_type": "markdown",
   "id": "38f7db21",
   "metadata": {},
   "source": [
    "# Template Notebook"
   ]
  },
  {
   "cell_type": "code",
   "execution_count": null,
   "id": "a8834ca6",
   "metadata": {},
   "outputs": [],
   "source": [
    "import os\n",
    "import boto3\n",
    "import pandas as pd\n",
    "from io import StringIO\n",
    "from dotenv import load_dotenv\n",
    "from pyathena import connect\n",
    "from openai import OpenAI\n",
    "\n",
    "from typing import Callable\n",
    "\n",
    "pd.options.display.width = 1000\n",
    "\n",
    "BUCKET = 'hu-explorer-demo'\n",
    "\n",
    "DATA_VIEWER_SYSTEM_PROMPT = \"\"\"You a data analyizer/synthesizer. The user will\n",
    "provide a prompt they wish to be applied to each row in a table of clinical\n",
    "trial data, creating a new column of responses across that table. You will be\n",
    "given a single row of data from that table and you will provide an appropriate\n",
    "response that will be used as content in this new column. Provide only this\n",
    "content with no additional explanation or apology.\"\"\"\n",
    "\n",
    "DATA_VIEWER_ROWWISE_PROMPT = \"\"\"\n",
    "# User Prompt\n",
    "\n",
    "{}\n",
    "\n",
    "---  \n",
    "\n",
    "# Row Data\n",
    "\n",
    "```\n",
    "{}\n",
    "```\n",
    "\"\"\"\n",
    "\n",
    "load_dotenv()\n",
    "\n",
    "s3 = boto3.client('s3')\n",
    "\n",
    "api_key = os.environ.get(\"API_KEY\")\n",
    "if not api_key:\n",
    "    raise ValueError(\"API_KEY environment variable not set\")\n",
    "\n",
    "client = OpenAI(api_key=api_key)"
   ]
  },
  {
   "cell_type": "code",
   "execution_count": null,
   "id": "6988d053",
   "metadata": {},
   "outputs": [],
   "source": [
    "def s3_load_trials_csv(_client, _bucket, _key='table/clinical_trials.csv') -> pd.DataFrame:\n",
    "    \"\"\"Load the clinical trials table from s3\"\"\"\n",
    "\n",
    "    response = _client.get_object(Bucket=_bucket, Key=_key)\n",
    "    csv_data = response['Body'].read().decode('utf-8')\n",
    "\n",
    "    return pd.read_csv(StringIO(csv_data))\n",
    "\n",
    "\n",
    "def query_gpt(prompt: str, system_prompt: str, model: str = \"gpt-4o\", temperature: float = 0.0) -> str:\n",
    "    try:\n",
    "        # Limit the maximum token output\n",
    "        response = client.chat.completions.create(model=model,\n",
    "        messages=[\n",
    "            {\"role\": \"system\", \"content\": system_prompt},\n",
    "            {\"role\": \"user\", \"content\": prompt}\n",
    "        ],\n",
    "        max_tokens=4096,\n",
    "        temperature=temperature)\n",
    "        return response.choices[0].message.content.strip()\n",
    "    except Exception as e:\n",
    "        # logger.error(f\"Error querying GPT: {e}\")\n",
    "        return \"Error in GPT query\"\n",
    "\n",
    "\n",
    "def generate_data_viewer_gpt_apply_func(user_prompt: str) -> Callable:\n",
    "\n",
    "    def func(row_data: str) -> str:\n",
    "        prompt = DATA_VIEWER_ROWWISE_PROMPT.format(user_prompt, row_data)\n",
    "        return query_gpt(prompt, DATA_VIEWER_SYSTEM_PROMPT)\n",
    "\n",
    "    return func\n",
    "\n"
   ]
  },
  {
   "cell_type": "code",
   "execution_count": null,
   "id": "c11d3765",
   "metadata": {
    "lines_to_next_cell": 2
   },
   "outputs": [],
   "source": [
    "df = s3_load_trials_csv(s3, BUCKET)\n",
    "prompt = 'hello this is a test'\n",
    "row_data = str(df.iloc[0])\n",
    "\n",
    "res = data_viewer_query_gpt(prompt, row_data)\n",
    "print(res)"
   ]
  },
  {
   "cell_type": "code",
   "execution_count": null,
   "id": "289ae112",
   "metadata": {},
   "outputs": [],
   "source": [
    "bucket = boto3.resource('s3').Bucket(BUCKET)\n",
    "for obj in bucket.objects.all():\n",
    "    print(obj.key, obj.size)"
   ]
  },
  {
   "cell_type": "code",
   "execution_count": null,
   "id": "6b9ac21f",
   "metadata": {},
   "outputs": [],
   "source": [
    "response = s3.get_object(Bucket=BUCKET, Key='table/clinical_trials.csv')\n",
    "csv_data = response['Body'].read().decode('utf-8')\n",
    "df = pd.read_csv(StringIO(csv_data))\n",
    "df"
   ]
  },
  {
   "cell_type": "code",
   "execution_count": null,
   "id": "2f3716da",
   "metadata": {
    "lines_to_next_cell": 2
   },
   "outputs": [],
   "source": [
    "bucket = boto3.resource('s3').Bucket(BUCKET)\n",
    "for obj in bucket.objects.all():\n",
    "    if obj.key.endswith('xml'):\n",
    "        # s3.delete_object(Bucket=BUCKET, Key=obj.key)\n",
    "        print(obj.key)"
   ]
  },
  {
   "cell_type": "code",
   "execution_count": null,
   "id": "568cf8f7",
   "metadata": {},
   "outputs": [],
   "source": [
    "con = connect()\n",
    "query = \"\"\"\n",
    "SELECT *\n",
    "FROM ci4cc_hackathon_database.clinical_onco_patient\n",
    "LIMIT 10\n",
    "\"\"\"\n",
    "df = pd.read_sql(query, con)\n",
    "df"
   ]
  },
  {
   "cell_type": "code",
   "execution_count": null,
   "id": "02b39dbe",
   "metadata": {
    "lines_to_next_cell": 0
   },
   "outputs": [],
   "source": []
  },
  {
   "cell_type": "code",
   "execution_count": null,
   "id": "f8b06f57",
   "metadata": {
    "lines_to_next_cell": 0
   },
   "outputs": [],
   "source": []
  },
  {
   "cell_type": "code",
   "execution_count": null,
   "id": "022c294f",
   "metadata": {
    "lines_to_next_cell": 0
   },
   "outputs": [],
   "source": []
  },
  {
   "cell_type": "code",
   "execution_count": null,
   "id": "c1387c84",
   "metadata": {
    "lines_to_next_cell": 0
   },
   "outputs": [],
   "source": []
  },
  {
   "cell_type": "code",
   "execution_count": null,
   "id": "8207998c",
   "metadata": {
    "lines_to_next_cell": 0
   },
   "outputs": [],
   "source": []
  },
  {
   "cell_type": "code",
   "execution_count": null,
   "id": "748dc32d",
   "metadata": {
    "lines_to_next_cell": 0
   },
   "outputs": [],
   "source": []
  },
  {
   "cell_type": "code",
   "execution_count": null,
   "id": "3fac085e",
   "metadata": {
    "lines_to_next_cell": 0
   },
   "outputs": [],
   "source": []
  },
  {
   "cell_type": "code",
   "execution_count": null,
   "id": "65694bf9",
   "metadata": {
    "lines_to_next_cell": 0
   },
   "outputs": [],
   "source": []
  },
  {
   "cell_type": "code",
   "execution_count": null,
   "id": "6794dd5d",
   "metadata": {
    "lines_to_next_cell": 0
   },
   "outputs": [],
   "source": []
  },
  {
   "cell_type": "code",
   "execution_count": null,
   "id": "52da369b",
   "metadata": {
    "lines_to_next_cell": 0
   },
   "outputs": [],
   "source": []
  },
  {
   "cell_type": "code",
   "execution_count": null,
   "id": "a00adf32",
   "metadata": {
    "lines_to_next_cell": 0
   },
   "outputs": [],
   "source": []
  },
  {
   "cell_type": "code",
   "execution_count": null,
   "id": "3c29476c",
   "metadata": {
    "lines_to_next_cell": 0
   },
   "outputs": [],
   "source": []
  },
  {
   "cell_type": "code",
   "execution_count": null,
   "id": "b4338bb6",
   "metadata": {
    "lines_to_next_cell": 0
   },
   "outputs": [],
   "source": []
  },
  {
   "cell_type": "code",
   "execution_count": null,
   "id": "a2312fb4",
   "metadata": {
    "lines_to_next_cell": 0
   },
   "outputs": [],
   "source": []
  },
  {
   "cell_type": "code",
   "execution_count": null,
   "id": "2f0e9215",
   "metadata": {
    "lines_to_next_cell": 0
   },
   "outputs": [],
   "source": []
  },
  {
   "cell_type": "code",
   "execution_count": null,
   "id": "789d1177",
   "metadata": {},
   "outputs": [],
   "source": []
  }
 ],
 "metadata": {
  "kernelspec": {
   "display_name": "Python3",
   "language": "python",
   "name": "Python3"
  }
 },
 "nbformat": 4,
 "nbformat_minor": 5
}
